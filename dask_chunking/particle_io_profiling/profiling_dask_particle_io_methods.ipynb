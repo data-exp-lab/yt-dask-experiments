{
 "cells": [
  {
   "cell_type": "code",
   "execution_count": null,
   "id": "short-transcript",
   "metadata": {},
   "outputs": [],
   "source": []
  },
  {
   "cell_type": "code",
   "execution_count": 1,
   "id": "accessory-choir",
   "metadata": {},
   "outputs": [
    {
     "name": "stderr",
     "output_type": "stream",
     "text": [
      "/home/chavlin/src/yt/yt/utilities/logger.py:4: VisibleDeprecationWarning: The configuration file /home/chavlin/.config/yt/ytrc is deprecated in favor of /home/chavlin/.config/yt/yt.toml. Currently, both are present. Please manually remove the deprecated one to silence this warning.\n",
      "Deprecated since v4.0.0 . This feature will be removed in v4.1.0\n",
      "  from yt.config import ytcfg\n"
     ]
    }
   ],
   "source": [
    "import yt\n",
    "import os\n",
    "import cProfile\n",
    "import pandas as pd \n",
    "\n",
    "ddir = \"/home/chavlin/src/temp/\""
   ]
  },
  {
   "cell_type": "markdown",
   "id": "distant-luxury",
   "metadata": {},
   "source": [
    "function to convert cProfile output to pandas dataframe:"
   ]
  },
  {
   "cell_type": "code",
   "execution_count": 2,
   "id": "cosmetic-saver",
   "metadata": {},
   "outputs": [],
   "source": [
    "def get_df(pr):\n",
    "    attrs = ['code','callcount','reccallcount','totaltime','inlinetime','calls']\n",
    "    rows = []\n",
    "    for st in pr.getstats():\n",
    "        rows.append([getattr(st,attr) for attr in attrs])\n",
    "        \n",
    "    return pd.DataFrame(rows,columns=attrs)"
   ]
  },
  {
   "cell_type": "markdown",
   "id": "affected-operator",
   "metadata": {},
   "source": [
    "right now I have some environment variable flags to switch between the different particle reader methods. This is a temporary hacky solution for switching between the different methods, which are:\n",
    "\n",
    "\n",
    "* `'original'` : the normal reader, does a count, pre-allocate then fill \n",
    "* `'dask_array'`: does a count (with dask), builds dask arrays `from_delayed()`, converts to in-memory \n",
    "* `'dask_dataframe'`: no count, builds dask dataframe (each column is a field), converts to `dask_array`, converts to in-memory array\n",
    "* `'dask_dataframe_valsonly'`: no count, builds dask dataframe, converts to in memory df, extracts values to np arrays (no intermediate conversion to `dask_dataframe`)\n",
    "\n",
    "So the following code loads a dataset then profiles just the selection from `ds.region` "
   ]
  },
  {
   "cell_type": "code",
   "execution_count": 3,
   "id": "bizarre-words",
   "metadata": {},
   "outputs": [
    {
     "name": "stderr",
     "output_type": "stream",
     "text": [
      "yt : [INFO     ] 2021-02-10 11:05:07,294 Files located at /home/chavlin/hdd/data/yt_data/yt_sample_sets/snapshot_033.tar.gz.untar/snapshot_033/snap_033.\n",
      "yt : [INFO     ] 2021-02-10 11:05:07,295 Default to loading snap_033.0.hdf5 for snapshot_033 dataset\n",
      "yt : [INFO     ] 2021-02-10 11:05:07,356 Parameters: current_time              = 4.343952725460923e+17 s\n",
      "yt : [INFO     ] 2021-02-10 11:05:07,357 Parameters: domain_dimensions         = [1 1 1]\n",
      "yt : [INFO     ] 2021-02-10 11:05:07,357 Parameters: domain_left_edge          = [0. 0. 0.]\n",
      "yt : [INFO     ] 2021-02-10 11:05:07,357 Parameters: domain_right_edge         = [25. 25. 25.]\n",
      "yt : [INFO     ] 2021-02-10 11:05:07,358 Parameters: cosmological_simulation   = 1\n",
      "yt : [INFO     ] 2021-02-10 11:05:07,358 Parameters: current_redshift          = -4.811891664902035e-05\n",
      "yt : [INFO     ] 2021-02-10 11:05:07,359 Parameters: omega_lambda              = 0.762\n",
      "yt : [INFO     ] 2021-02-10 11:05:07,359 Parameters: omega_matter              = 0.238\n",
      "yt : [INFO     ] 2021-02-10 11:05:07,360 Parameters: omega_radiation           = 0.0\n",
      "yt : [INFO     ] 2021-02-10 11:05:07,360 Parameters: hubble_constant           = 0.73\n",
      "yt : [INFO     ] 2021-02-10 11:05:07,437 Allocating for 4.194e+06 particles\n",
      "Loading particle index:  92%|█████████▏| 11/12 [00:00<00:00, 192.47it/s]\n"
     ]
    },
    {
     "name": "stdout",
     "output_type": "stream",
     "text": [
      "    original count\n",
      "original method\n",
      "dask array\n",
      "dask_df\n",
      "dask_df\n",
      "    direct vals\n"
     ]
    }
   ],
   "source": [
    "methnames = ['original','dask_array','dask_dataframe','dask_dataframe_valsonly']\n",
    "ds = yt.load_sample(\"snapshot_033\") # load it\n",
    "ndx = ds.index # make sure the index is initialized (otherwise this happens when selecting)\n",
    "\n",
    "for meth in methnames:\n",
    "    os.environ['yt_dask_flag'] = meth\n",
    "    # creating a new region seems sufficient for clearing any cache...\n",
    "    reg = ds.region(ds.domain_center,ds.domain_right_edge*0.25, ds.domain_right_edge*0.75)\n",
    "    with cProfile.Profile() as pr:\n",
    "        den = reg[('PartType4', 'Density')]\n",
    "    df = get_df(pr)\n",
    "    df.to_csv(os.path.join(ddir,f\"prof_stats_{meth}.csv\"),index=False,sep=\"|\")"
   ]
  },
  {
   "cell_type": "markdown",
   "id": "modular-possession",
   "metadata": {},
   "source": [
    "So now we can load back in the dataframes for each method:"
   ]
  },
  {
   "cell_type": "code",
   "execution_count": 4,
   "id": "coordinated-guarantee",
   "metadata": {},
   "outputs": [],
   "source": [
    "df_dict = {meth:pd.read_csv(os.path.join(ddir,f\"prof_stats_{meth}.csv\"),sep='|') for meth in methnames}"
   ]
  },
  {
   "cell_type": "code",
   "execution_count": 5,
   "id": "associate-victory",
   "metadata": {},
   "outputs": [
    {
     "data": {
      "text/html": [
       "<div>\n",
       "<style scoped>\n",
       "    .dataframe tbody tr th:only-of-type {\n",
       "        vertical-align: middle;\n",
       "    }\n",
       "\n",
       "    .dataframe tbody tr th {\n",
       "        vertical-align: top;\n",
       "    }\n",
       "\n",
       "    .dataframe thead th {\n",
       "        text-align: right;\n",
       "    }\n",
       "</style>\n",
       "<table border=\"1\" class=\"dataframe\">\n",
       "  <thead>\n",
       "    <tr style=\"text-align: right;\">\n",
       "      <th></th>\n",
       "      <th>code</th>\n",
       "      <th>callcount</th>\n",
       "      <th>reccallcount</th>\n",
       "      <th>totaltime</th>\n",
       "      <th>inlinetime</th>\n",
       "      <th>calls</th>\n",
       "    </tr>\n",
       "  </thead>\n",
       "  <tbody>\n",
       "    <tr>\n",
       "      <th>44</th>\n",
       "      <td>&lt;method 'identify_file_masks' of 'yt.geometry....</td>\n",
       "      <td>1</td>\n",
       "      <td>0</td>\n",
       "      <td>5.066298</td>\n",
       "      <td>5.066096</td>\n",
       "      <td>[_lsprof.profiler_subentry(code=&lt;code object w...</td>\n",
       "    </tr>\n",
       "    <tr>\n",
       "      <th>32</th>\n",
       "      <td>&lt;code object _read_particle_fields at 0x7f9ebf...</td>\n",
       "      <td>9</td>\n",
       "      <td>0</td>\n",
       "      <td>0.007993</td>\n",
       "      <td>0.001622</td>\n",
       "      <td>[_lsprof.profiler_subentry(code='&lt;built-in met...</td>\n",
       "    </tr>\n",
       "    <tr>\n",
       "      <th>69</th>\n",
       "      <td>&lt;code object __getitem__ at 0x7f9ece8d03a0, fi...</td>\n",
       "      <td>24</td>\n",
       "      <td>0</td>\n",
       "      <td>0.004168</td>\n",
       "      <td>0.001308</td>\n",
       "      <td>[_lsprof.profiler_subentry(code='&lt;built-in met...</td>\n",
       "    </tr>\n",
       "    <tr>\n",
       "      <th>87</th>\n",
       "      <td>&lt;code object make_fid at 0x7f9ecf3bd7c0, file ...</td>\n",
       "      <td>20</td>\n",
       "      <td>0</td>\n",
       "      <td>0.001305</td>\n",
       "      <td>0.001260</td>\n",
       "      <td>[_lsprof.profiler_subentry(code=&lt;code object p...</td>\n",
       "    </tr>\n",
       "    <tr>\n",
       "      <th>94</th>\n",
       "      <td>&lt;code object __getitem__ at 0x7f9ecf3c1c90, fi...</td>\n",
       "      <td>32</td>\n",
       "      <td>0</td>\n",
       "      <td>0.002357</td>\n",
       "      <td>0.001206</td>\n",
       "      <td>[_lsprof.profiler_subentry(code=&lt;code object p...</td>\n",
       "    </tr>\n",
       "  </tbody>\n",
       "</table>\n",
       "</div>"
      ],
      "text/plain": [
       "                                                 code  callcount  \\\n",
       "44  <method 'identify_file_masks' of 'yt.geometry....          1   \n",
       "32  <code object _read_particle_fields at 0x7f9ebf...          9   \n",
       "69  <code object __getitem__ at 0x7f9ece8d03a0, fi...         24   \n",
       "87  <code object make_fid at 0x7f9ecf3bd7c0, file ...         20   \n",
       "94  <code object __getitem__ at 0x7f9ecf3c1c90, fi...         32   \n",
       "\n",
       "    reccallcount  totaltime  inlinetime  \\\n",
       "44             0   5.066298    5.066096   \n",
       "32             0   0.007993    0.001622   \n",
       "69             0   0.004168    0.001308   \n",
       "87             0   0.001305    0.001260   \n",
       "94             0   0.002357    0.001206   \n",
       "\n",
       "                                                calls  \n",
       "44  [_lsprof.profiler_subentry(code=<code object w...  \n",
       "32  [_lsprof.profiler_subentry(code='<built-in met...  \n",
       "69  [_lsprof.profiler_subentry(code='<built-in met...  \n",
       "87  [_lsprof.profiler_subentry(code=<code object p...  \n",
       "94  [_lsprof.profiler_subentry(code=<code object p...  "
      ]
     },
     "execution_count": 5,
     "metadata": {},
     "output_type": "execute_result"
    }
   ],
   "source": [
    "df_dict['original'].sort_values(by='inlinetime',ascending=False).head()"
   ]
  },
  {
   "cell_type": "code",
   "execution_count": 6,
   "id": "varied-liverpool",
   "metadata": {},
   "outputs": [
    {
     "data": {
      "text/html": [
       "<div>\n",
       "<style scoped>\n",
       "    .dataframe tbody tr th:only-of-type {\n",
       "        vertical-align: middle;\n",
       "    }\n",
       "\n",
       "    .dataframe tbody tr th {\n",
       "        vertical-align: top;\n",
       "    }\n",
       "\n",
       "    .dataframe thead th {\n",
       "        text-align: right;\n",
       "    }\n",
       "</style>\n",
       "<table border=\"1\" class=\"dataframe\">\n",
       "  <thead>\n",
       "    <tr style=\"text-align: right;\">\n",
       "      <th></th>\n",
       "      <th>code</th>\n",
       "      <th>callcount</th>\n",
       "      <th>reccallcount</th>\n",
       "      <th>totaltime</th>\n",
       "      <th>inlinetime</th>\n",
       "      <th>calls</th>\n",
       "    </tr>\n",
       "  </thead>\n",
       "  <tbody>\n",
       "    <tr>\n",
       "      <th>113</th>\n",
       "      <td>&lt;method 'identify_file_masks' of 'yt.geometry....</td>\n",
       "      <td>1</td>\n",
       "      <td>0</td>\n",
       "      <td>5.103516</td>\n",
       "      <td>5.103111</td>\n",
       "      <td>[_lsprof.profiler_subentry(code=&lt;code object w...</td>\n",
       "    </tr>\n",
       "    <tr>\n",
       "      <th>64</th>\n",
       "      <td>&lt;method 'acquire' of '_thread.lock' objects&gt;</td>\n",
       "      <td>141</td>\n",
       "      <td>0</td>\n",
       "      <td>0.025943</td>\n",
       "      <td>0.025943</td>\n",
       "      <td>NaN</td>\n",
       "    </tr>\n",
       "    <tr>\n",
       "      <th>47</th>\n",
       "      <td>&lt;built-in method posix.urandom&gt;</td>\n",
       "      <td>40</td>\n",
       "      <td>0</td>\n",
       "      <td>0.000543</td>\n",
       "      <td>0.000543</td>\n",
       "      <td>NaN</td>\n",
       "    </tr>\n",
       "    <tr>\n",
       "      <th>463</th>\n",
       "      <td>&lt;code object where at 0x7f9f00114b30, file \"&lt;_...</td>\n",
       "      <td>11</td>\n",
       "      <td>0</td>\n",
       "      <td>0.000405</td>\n",
       "      <td>0.000381</td>\n",
       "      <td>[_lsprof.profiler_subentry(code=&lt;code object w...</td>\n",
       "    </tr>\n",
       "    <tr>\n",
       "      <th>341</th>\n",
       "      <td>&lt;code object keys_in_tasks at 0x7f9eca20cb30, ...</td>\n",
       "      <td>127</td>\n",
       "      <td>0</td>\n",
       "      <td>0.000264</td>\n",
       "      <td>0.000242</td>\n",
       "      <td>[_lsprof.profiler_subentry(code='&lt;built-in met...</td>\n",
       "    </tr>\n",
       "  </tbody>\n",
       "</table>\n",
       "</div>"
      ],
      "text/plain": [
       "                                                  code  callcount  \\\n",
       "113  <method 'identify_file_masks' of 'yt.geometry....          1   \n",
       "64        <method 'acquire' of '_thread.lock' objects>        141   \n",
       "47                     <built-in method posix.urandom>         40   \n",
       "463  <code object where at 0x7f9f00114b30, file \"<_...         11   \n",
       "341  <code object keys_in_tasks at 0x7f9eca20cb30, ...        127   \n",
       "\n",
       "     reccallcount  totaltime  inlinetime  \\\n",
       "113             0   5.103516    5.103111   \n",
       "64              0   0.025943    0.025943   \n",
       "47              0   0.000543    0.000543   \n",
       "463             0   0.000405    0.000381   \n",
       "341             0   0.000264    0.000242   \n",
       "\n",
       "                                                 calls  \n",
       "113  [_lsprof.profiler_subentry(code=<code object w...  \n",
       "64                                                 NaN  \n",
       "47                                                 NaN  \n",
       "463  [_lsprof.profiler_subentry(code=<code object w...  \n",
       "341  [_lsprof.profiler_subentry(code='<built-in met...  "
      ]
     },
     "execution_count": 6,
     "metadata": {},
     "output_type": "execute_result"
    }
   ],
   "source": [
    "df_dict['dask_array'].sort_values(by='inlinetime',ascending=False).head()"
   ]
  },
  {
   "cell_type": "code",
   "execution_count": 7,
   "id": "norwegian-flour",
   "metadata": {},
   "outputs": [
    {
     "data": {
      "text/html": [
       "<div>\n",
       "<style scoped>\n",
       "    .dataframe tbody tr th:only-of-type {\n",
       "        vertical-align: middle;\n",
       "    }\n",
       "\n",
       "    .dataframe tbody tr th {\n",
       "        vertical-align: top;\n",
       "    }\n",
       "\n",
       "    .dataframe thead th {\n",
       "        text-align: right;\n",
       "    }\n",
       "</style>\n",
       "<table border=\"1\" class=\"dataframe\">\n",
       "  <thead>\n",
       "    <tr style=\"text-align: right;\">\n",
       "      <th></th>\n",
       "      <th>code</th>\n",
       "      <th>callcount</th>\n",
       "      <th>reccallcount</th>\n",
       "      <th>totaltime</th>\n",
       "      <th>inlinetime</th>\n",
       "      <th>calls</th>\n",
       "    </tr>\n",
       "  </thead>\n",
       "  <tbody>\n",
       "    <tr>\n",
       "      <th>79</th>\n",
       "      <td>&lt;method 'identify_file_masks' of 'yt.geometry....</td>\n",
       "      <td>1</td>\n",
       "      <td>0</td>\n",
       "      <td>5.095822</td>\n",
       "      <td>5.095455</td>\n",
       "      <td>[_lsprof.profiler_subentry(code=&lt;code object w...</td>\n",
       "    </tr>\n",
       "    <tr>\n",
       "      <th>51</th>\n",
       "      <td>&lt;method 'acquire' of '_thread.lock' objects&gt;</td>\n",
       "      <td>91</td>\n",
       "      <td>0</td>\n",
       "      <td>0.037567</td>\n",
       "      <td>0.037567</td>\n",
       "      <td>NaN</td>\n",
       "    </tr>\n",
       "    <tr>\n",
       "      <th>575</th>\n",
       "      <td>&lt;code object keys_in_tasks at 0x7f9eca20cb30, ...</td>\n",
       "      <td>91</td>\n",
       "      <td>0</td>\n",
       "      <td>0.000501</td>\n",
       "      <td>0.000386</td>\n",
       "      <td>[_lsprof.profiler_subentry(code='&lt;built-in met...</td>\n",
       "    </tr>\n",
       "    <tr>\n",
       "      <th>706</th>\n",
       "      <td>&lt;code object where at 0x7f9f00114b30, file \"&lt;_...</td>\n",
       "      <td>11</td>\n",
       "      <td>0</td>\n",
       "      <td>0.000367</td>\n",
       "      <td>0.000318</td>\n",
       "      <td>[_lsprof.profiler_subentry(code=&lt;code object w...</td>\n",
       "    </tr>\n",
       "    <tr>\n",
       "      <th>626</th>\n",
       "      <td>&lt;code object get_data at 0x7f9ed28260e0, file ...</td>\n",
       "      <td>1</td>\n",
       "      <td>0</td>\n",
       "      <td>5.142374</td>\n",
       "      <td>0.000238</td>\n",
       "      <td>[_lsprof.profiler_subentry(code='&lt;built-in met...</td>\n",
       "    </tr>\n",
       "  </tbody>\n",
       "</table>\n",
       "</div>"
      ],
      "text/plain": [
       "                                                  code  callcount  \\\n",
       "79   <method 'identify_file_masks' of 'yt.geometry....          1   \n",
       "51        <method 'acquire' of '_thread.lock' objects>         91   \n",
       "575  <code object keys_in_tasks at 0x7f9eca20cb30, ...         91   \n",
       "706  <code object where at 0x7f9f00114b30, file \"<_...         11   \n",
       "626  <code object get_data at 0x7f9ed28260e0, file ...          1   \n",
       "\n",
       "     reccallcount  totaltime  inlinetime  \\\n",
       "79              0   5.095822    5.095455   \n",
       "51              0   0.037567    0.037567   \n",
       "575             0   0.000501    0.000386   \n",
       "706             0   0.000367    0.000318   \n",
       "626             0   5.142374    0.000238   \n",
       "\n",
       "                                                 calls  \n",
       "79   [_lsprof.profiler_subentry(code=<code object w...  \n",
       "51                                                 NaN  \n",
       "575  [_lsprof.profiler_subentry(code='<built-in met...  \n",
       "706  [_lsprof.profiler_subentry(code=<code object w...  \n",
       "626  [_lsprof.profiler_subentry(code='<built-in met...  "
      ]
     },
     "execution_count": 7,
     "metadata": {},
     "output_type": "execute_result"
    }
   ],
   "source": [
    "df_dict['dask_dataframe'].sort_values(by='inlinetime',ascending=False).head()"
   ]
  },
  {
   "cell_type": "code",
   "execution_count": 8,
   "id": "floating-colorado",
   "metadata": {},
   "outputs": [
    {
     "data": {
      "text/html": [
       "<div>\n",
       "<style scoped>\n",
       "    .dataframe tbody tr th:only-of-type {\n",
       "        vertical-align: middle;\n",
       "    }\n",
       "\n",
       "    .dataframe tbody tr th {\n",
       "        vertical-align: top;\n",
       "    }\n",
       "\n",
       "    .dataframe thead th {\n",
       "        text-align: right;\n",
       "    }\n",
       "</style>\n",
       "<table border=\"1\" class=\"dataframe\">\n",
       "  <thead>\n",
       "    <tr style=\"text-align: right;\">\n",
       "      <th></th>\n",
       "      <th>code</th>\n",
       "      <th>callcount</th>\n",
       "      <th>reccallcount</th>\n",
       "      <th>totaltime</th>\n",
       "      <th>inlinetime</th>\n",
       "      <th>calls</th>\n",
       "    </tr>\n",
       "  </thead>\n",
       "  <tbody>\n",
       "    <tr>\n",
       "      <th>74</th>\n",
       "      <td>&lt;method 'identify_file_masks' of 'yt.geometry....</td>\n",
       "      <td>1</td>\n",
       "      <td>0</td>\n",
       "      <td>5.057266</td>\n",
       "      <td>5.056845</td>\n",
       "      <td>[_lsprof.profiler_subentry(code=&lt;code object w...</td>\n",
       "    </tr>\n",
       "    <tr>\n",
       "      <th>47</th>\n",
       "      <td>&lt;method 'acquire' of '_thread.lock' objects&gt;</td>\n",
       "      <td>77</td>\n",
       "      <td>0</td>\n",
       "      <td>0.036149</td>\n",
       "      <td>0.036149</td>\n",
       "      <td>NaN</td>\n",
       "    </tr>\n",
       "    <tr>\n",
       "      <th>654</th>\n",
       "      <td>&lt;code object where at 0x7f9f00114b30, file \"&lt;_...</td>\n",
       "      <td>11</td>\n",
       "      <td>0</td>\n",
       "      <td>0.000420</td>\n",
       "      <td>0.000384</td>\n",
       "      <td>[_lsprof.profiler_subentry(code=&lt;code object w...</td>\n",
       "    </tr>\n",
       "    <tr>\n",
       "      <th>525</th>\n",
       "      <td>&lt;code object keys_in_tasks at 0x7f9eca20cb30, ...</td>\n",
       "      <td>105</td>\n",
       "      <td>0</td>\n",
       "      <td>0.000498</td>\n",
       "      <td>0.000377</td>\n",
       "      <td>[_lsprof.profiler_subentry(code=\"&lt;method 'exte...</td>\n",
       "    </tr>\n",
       "    <tr>\n",
       "      <th>38</th>\n",
       "      <td>&lt;built-in method posix.urandom&gt;</td>\n",
       "      <td>22</td>\n",
       "      <td>0</td>\n",
       "      <td>0.000294</td>\n",
       "      <td>0.000294</td>\n",
       "      <td>NaN</td>\n",
       "    </tr>\n",
       "  </tbody>\n",
       "</table>\n",
       "</div>"
      ],
      "text/plain": [
       "                                                  code  callcount  \\\n",
       "74   <method 'identify_file_masks' of 'yt.geometry....          1   \n",
       "47        <method 'acquire' of '_thread.lock' objects>         77   \n",
       "654  <code object where at 0x7f9f00114b30, file \"<_...         11   \n",
       "525  <code object keys_in_tasks at 0x7f9eca20cb30, ...        105   \n",
       "38                     <built-in method posix.urandom>         22   \n",
       "\n",
       "     reccallcount  totaltime  inlinetime  \\\n",
       "74              0   5.057266    5.056845   \n",
       "47              0   0.036149    0.036149   \n",
       "654             0   0.000420    0.000384   \n",
       "525             0   0.000498    0.000377   \n",
       "38              0   0.000294    0.000294   \n",
       "\n",
       "                                                 calls  \n",
       "74   [_lsprof.profiler_subentry(code=<code object w...  \n",
       "47                                                 NaN  \n",
       "654  [_lsprof.profiler_subentry(code=<code object w...  \n",
       "525  [_lsprof.profiler_subentry(code=\"<method 'exte...  \n",
       "38                                                 NaN  "
      ]
     },
     "execution_count": 8,
     "metadata": {},
     "output_type": "execute_result"
    }
   ],
   "source": [
    "df_dict['dask_dataframe_valsonly'].sort_values(by='inlinetime',ascending=False).head()"
   ]
  },
  {
   "cell_type": "markdown",
   "id": "medieval-occasions",
   "metadata": {},
   "source": [
    "to identify the calls that are taking more time compared to the original, we can merge the dataframes and calculate some differences. Using a left join of the original on the new, we can identify the additional calls coming from dask. The resulting dataframes will have `_n` and `_o` suffixes for the new and original method values, respectively, and `d_` prefix for the differences:"
   ]
  },
  {
   "cell_type": "code",
   "execution_count": 9,
   "id": "reported-skirt",
   "metadata": {},
   "outputs": [],
   "source": [
    "diff_cols =['callcount','inlinetime','totaltime']\n",
    "df_o = df_dict['original']\n",
    "for meth in ['dask_array','dask_dataframe','dask_dataframe_valsonly']:\n",
    "    # merge w original \n",
    "    df_n = df_dict[meth]\n",
    "    df_new = df_n.merge(df_o,how='left',on='code',suffixes=('_n','_o')).fillna(0.)\n",
    "    \n",
    "    # calculate differences for the following columns\n",
    "    diff_cols =['callcount','inlinetime','totaltime']\n",
    "    for col in diff_cols:\n",
    "        df_new['d_'+col]=df_new[col+'_n'] - df_new[col+'_o']\n",
    "    df_new.to_csv(os.path.join(ddir,f\"merged_stats_{meth}.csv\"),sep='|',index=False)"
   ]
  },
  {
   "cell_type": "markdown",
   "id": "healthy-zoning",
   "metadata": {},
   "source": [
    "and let's load those back in, sort by the difference in inline time:"
   ]
  },
  {
   "cell_type": "code",
   "execution_count": 10,
   "id": "entire-theology",
   "metadata": {},
   "outputs": [],
   "source": [
    "diff_ds = {}\n",
    "for meth in ['dask_array','dask_dataframe','dask_dataframe_valsonly']:\n",
    "    diff_ds[meth] = pd.read_csv(os.path.join(ddir,f\"merged_stats_{meth}.csv\"),sep='|').sort_values(by='d_inlinetime',ascending=False)\n",
    "    "
   ]
  },
  {
   "cell_type": "code",
   "execution_count": 11,
   "id": "tender-identifier",
   "metadata": {},
   "outputs": [
    {
     "data": {
      "text/html": [
       "<div>\n",
       "<style scoped>\n",
       "    .dataframe tbody tr th:only-of-type {\n",
       "        vertical-align: middle;\n",
       "    }\n",
       "\n",
       "    .dataframe tbody tr th {\n",
       "        vertical-align: top;\n",
       "    }\n",
       "\n",
       "    .dataframe thead th {\n",
       "        text-align: right;\n",
       "    }\n",
       "</style>\n",
       "<table border=\"1\" class=\"dataframe\">\n",
       "  <thead>\n",
       "    <tr style=\"text-align: right;\">\n",
       "      <th></th>\n",
       "      <th>code</th>\n",
       "      <th>d_callcount</th>\n",
       "      <th>d_totaltime</th>\n",
       "      <th>d_inlinetime</th>\n",
       "      <th>callcount_o</th>\n",
       "    </tr>\n",
       "  </thead>\n",
       "  <tbody>\n",
       "    <tr>\n",
       "      <th>113</th>\n",
       "      <td>&lt;method 'identify_file_masks' of 'yt.geometry....</td>\n",
       "      <td>0.0</td>\n",
       "      <td>0.037218</td>\n",
       "      <td>0.037015</td>\n",
       "      <td>1.0</td>\n",
       "    </tr>\n",
       "    <tr>\n",
       "      <th>64</th>\n",
       "      <td>&lt;method 'acquire' of '_thread.lock' objects&gt;</td>\n",
       "      <td>136.0</td>\n",
       "      <td>0.025938</td>\n",
       "      <td>0.025938</td>\n",
       "      <td>5.0</td>\n",
       "    </tr>\n",
       "    <tr>\n",
       "      <th>47</th>\n",
       "      <td>&lt;built-in method posix.urandom&gt;</td>\n",
       "      <td>40.0</td>\n",
       "      <td>0.000543</td>\n",
       "      <td>0.000543</td>\n",
       "      <td>0.0</td>\n",
       "    </tr>\n",
       "    <tr>\n",
       "      <th>341</th>\n",
       "      <td>&lt;code object keys_in_tasks at 0x7f9eca20cb30, ...</td>\n",
       "      <td>127.0</td>\n",
       "      <td>0.000264</td>\n",
       "      <td>0.000242</td>\n",
       "      <td>0.0</td>\n",
       "    </tr>\n",
       "    <tr>\n",
       "      <th>463</th>\n",
       "      <td>&lt;code object where at 0x7f9f00114b30, file \"&lt;_...</td>\n",
       "      <td>0.0</td>\n",
       "      <td>0.000203</td>\n",
       "      <td>0.000202</td>\n",
       "      <td>11.0</td>\n",
       "    </tr>\n",
       "  </tbody>\n",
       "</table>\n",
       "</div>"
      ],
      "text/plain": [
       "                                                  code  d_callcount  \\\n",
       "113  <method 'identify_file_masks' of 'yt.geometry....          0.0   \n",
       "64        <method 'acquire' of '_thread.lock' objects>        136.0   \n",
       "47                     <built-in method posix.urandom>         40.0   \n",
       "341  <code object keys_in_tasks at 0x7f9eca20cb30, ...        127.0   \n",
       "463  <code object where at 0x7f9f00114b30, file \"<_...          0.0   \n",
       "\n",
       "     d_totaltime  d_inlinetime  callcount_o  \n",
       "113     0.037218      0.037015          1.0  \n",
       "64      0.025938      0.025938          5.0  \n",
       "47      0.000543      0.000543          0.0  \n",
       "341     0.000264      0.000242          0.0  \n",
       "463     0.000203      0.000202         11.0  "
      ]
     },
     "execution_count": 11,
     "metadata": {},
     "output_type": "execute_result"
    }
   ],
   "source": [
    "diff_ds['dask_array'][['code','d_callcount','d_totaltime','d_inlinetime','callcount_o']].head()"
   ]
  },
  {
   "cell_type": "code",
   "execution_count": 12,
   "id": "united-basketball",
   "metadata": {},
   "outputs": [
    {
     "data": {
      "text/plain": [
       "0.0708528320000005"
      ]
     },
     "execution_count": 12,
     "metadata": {},
     "output_type": "execute_result"
    }
   ],
   "source": [
    "diff_ds['dask_array']['d_inlinetime'].sum()"
   ]
  },
  {
   "cell_type": "code",
   "execution_count": 13,
   "id": "fundamental-insulin",
   "metadata": {},
   "outputs": [
    {
     "data": {
      "text/html": [
       "<div>\n",
       "<style scoped>\n",
       "    .dataframe tbody tr th:only-of-type {\n",
       "        vertical-align: middle;\n",
       "    }\n",
       "\n",
       "    .dataframe tbody tr th {\n",
       "        vertical-align: top;\n",
       "    }\n",
       "\n",
       "    .dataframe thead th {\n",
       "        text-align: right;\n",
       "    }\n",
       "</style>\n",
       "<table border=\"1\" class=\"dataframe\">\n",
       "  <thead>\n",
       "    <tr style=\"text-align: right;\">\n",
       "      <th></th>\n",
       "      <th>code</th>\n",
       "      <th>d_callcount</th>\n",
       "      <th>d_totaltime</th>\n",
       "      <th>d_inlinetime</th>\n",
       "      <th>callcount_o</th>\n",
       "    </tr>\n",
       "  </thead>\n",
       "  <tbody>\n",
       "    <tr>\n",
       "      <th>51</th>\n",
       "      <td>&lt;method 'acquire' of '_thread.lock' objects&gt;</td>\n",
       "      <td>86.0</td>\n",
       "      <td>0.037562</td>\n",
       "      <td>0.037562</td>\n",
       "      <td>5.0</td>\n",
       "    </tr>\n",
       "    <tr>\n",
       "      <th>79</th>\n",
       "      <td>&lt;method 'identify_file_masks' of 'yt.geometry....</td>\n",
       "      <td>0.0</td>\n",
       "      <td>0.029524</td>\n",
       "      <td>0.029360</td>\n",
       "      <td>1.0</td>\n",
       "    </tr>\n",
       "    <tr>\n",
       "      <th>575</th>\n",
       "      <td>&lt;code object keys_in_tasks at 0x7f9eca20cb30, ...</td>\n",
       "      <td>91.0</td>\n",
       "      <td>0.000501</td>\n",
       "      <td>0.000386</td>\n",
       "      <td>0.0</td>\n",
       "    </tr>\n",
       "    <tr>\n",
       "      <th>41</th>\n",
       "      <td>&lt;built-in method posix.urandom&gt;</td>\n",
       "      <td>22.0</td>\n",
       "      <td>0.000216</td>\n",
       "      <td>0.000216</td>\n",
       "      <td>0.0</td>\n",
       "    </tr>\n",
       "    <tr>\n",
       "      <th>515</th>\n",
       "      <td>&lt;code object unpack_collections at 0x7f9eca1b2...</td>\n",
       "      <td>140.0</td>\n",
       "      <td>0.000732</td>\n",
       "      <td>0.000216</td>\n",
       "      <td>0.0</td>\n",
       "    </tr>\n",
       "  </tbody>\n",
       "</table>\n",
       "</div>"
      ],
      "text/plain": [
       "                                                  code  d_callcount  \\\n",
       "51        <method 'acquire' of '_thread.lock' objects>         86.0   \n",
       "79   <method 'identify_file_masks' of 'yt.geometry....          0.0   \n",
       "575  <code object keys_in_tasks at 0x7f9eca20cb30, ...         91.0   \n",
       "41                     <built-in method posix.urandom>         22.0   \n",
       "515  <code object unpack_collections at 0x7f9eca1b2...        140.0   \n",
       "\n",
       "     d_totaltime  d_inlinetime  callcount_o  \n",
       "51      0.037562      0.037562          5.0  \n",
       "79      0.029524      0.029360          1.0  \n",
       "575     0.000501      0.000386          0.0  \n",
       "41      0.000216      0.000216          0.0  \n",
       "515     0.000732      0.000216          0.0  "
      ]
     },
     "execution_count": 13,
     "metadata": {},
     "output_type": "execute_result"
    }
   ],
   "source": [
    "diff_ds['dask_dataframe'][['code','d_callcount','d_totaltime','d_inlinetime','callcount_o']].head()"
   ]
  },
  {
   "cell_type": "code",
   "execution_count": 14,
   "id": "limited-spirit",
   "metadata": {},
   "outputs": [
    {
     "data": {
      "text/plain": [
       "0.07355959900000031"
      ]
     },
     "execution_count": 14,
     "metadata": {},
     "output_type": "execute_result"
    }
   ],
   "source": [
    "diff_ds['dask_dataframe']['d_inlinetime'].sum()"
   ]
  },
  {
   "cell_type": "code",
   "execution_count": 15,
   "id": "korean-jackson",
   "metadata": {},
   "outputs": [
    {
     "data": {
      "text/html": [
       "<div>\n",
       "<style scoped>\n",
       "    .dataframe tbody tr th:only-of-type {\n",
       "        vertical-align: middle;\n",
       "    }\n",
       "\n",
       "    .dataframe tbody tr th {\n",
       "        vertical-align: top;\n",
       "    }\n",
       "\n",
       "    .dataframe thead th {\n",
       "        text-align: right;\n",
       "    }\n",
       "</style>\n",
       "<table border=\"1\" class=\"dataframe\">\n",
       "  <thead>\n",
       "    <tr style=\"text-align: right;\">\n",
       "      <th></th>\n",
       "      <th>code</th>\n",
       "      <th>d_callcount</th>\n",
       "      <th>d_totaltime</th>\n",
       "      <th>d_inlinetime</th>\n",
       "      <th>callcount_o</th>\n",
       "    </tr>\n",
       "  </thead>\n",
       "  <tbody>\n",
       "    <tr>\n",
       "      <th>47</th>\n",
       "      <td>&lt;method 'acquire' of '_thread.lock' objects&gt;</td>\n",
       "      <td>72.0</td>\n",
       "      <td>0.036144</td>\n",
       "      <td>0.036144</td>\n",
       "      <td>5.0</td>\n",
       "    </tr>\n",
       "    <tr>\n",
       "      <th>525</th>\n",
       "      <td>&lt;code object keys_in_tasks at 0x7f9eca20cb30, ...</td>\n",
       "      <td>105.0</td>\n",
       "      <td>0.000498</td>\n",
       "      <td>0.000377</td>\n",
       "      <td>0.0</td>\n",
       "    </tr>\n",
       "    <tr>\n",
       "      <th>38</th>\n",
       "      <td>&lt;built-in method posix.urandom&gt;</td>\n",
       "      <td>22.0</td>\n",
       "      <td>0.000294</td>\n",
       "      <td>0.000294</td>\n",
       "      <td>0.0</td>\n",
       "    </tr>\n",
       "    <tr>\n",
       "      <th>469</th>\n",
       "      <td>&lt;code object unpack_collections at 0x7f9eca1b2...</td>\n",
       "      <td>140.0</td>\n",
       "      <td>0.000719</td>\n",
       "      <td>0.000217</td>\n",
       "      <td>0.0</td>\n",
       "    </tr>\n",
       "    <tr>\n",
       "      <th>654</th>\n",
       "      <td>&lt;code object where at 0x7f9f00114b30, file \"&lt;_...</td>\n",
       "      <td>0.0</td>\n",
       "      <td>0.000218</td>\n",
       "      <td>0.000206</td>\n",
       "      <td>11.0</td>\n",
       "    </tr>\n",
       "  </tbody>\n",
       "</table>\n",
       "</div>"
      ],
      "text/plain": [
       "                                                  code  d_callcount  \\\n",
       "47        <method 'acquire' of '_thread.lock' objects>         72.0   \n",
       "525  <code object keys_in_tasks at 0x7f9eca20cb30, ...        105.0   \n",
       "38                     <built-in method posix.urandom>         22.0   \n",
       "469  <code object unpack_collections at 0x7f9eca1b2...        140.0   \n",
       "654  <code object where at 0x7f9f00114b30, file \"<_...          0.0   \n",
       "\n",
       "     d_totaltime  d_inlinetime  callcount_o  \n",
       "47      0.036144      0.036144          5.0  \n",
       "525     0.000498      0.000377          0.0  \n",
       "38      0.000294      0.000294          0.0  \n",
       "469     0.000719      0.000217          0.0  \n",
       "654     0.000218      0.000206         11.0  "
      ]
     },
     "execution_count": 15,
     "metadata": {},
     "output_type": "execute_result"
    }
   ],
   "source": [
    "diff_ds['dask_dataframe_valsonly'][['code','d_callcount','d_totaltime','d_inlinetime','callcount_o']].head()"
   ]
  },
  {
   "cell_type": "code",
   "execution_count": 16,
   "id": "occupational-assembly",
   "metadata": {},
   "outputs": [
    {
     "data": {
      "text/plain": [
       "0.03293069299999952"
      ]
     },
     "execution_count": 16,
     "metadata": {},
     "output_type": "execute_result"
    }
   ],
   "source": [
    "diff_ds['dask_dataframe_valsonly']['d_inlinetime'].sum()"
   ]
  },
  {
   "cell_type": "markdown",
   "id": "pending-charles",
   "metadata": {},
   "source": [
    "These values differ between runs somewhat... the `identify_file_masks` time is pretty variable sometimes it's slower/faster for the new methods. The `_thread.lock` calls are pretty consistent though. I could do all this in a loop and average each method's dfs over each run... "
   ]
  },
  {
   "cell_type": "code",
   "execution_count": null,
   "id": "transsexual-christianity",
   "metadata": {},
   "outputs": [],
   "source": []
  }
 ],
 "metadata": {
  "kernelspec": {
   "display_name": "Python 3",
   "language": "python",
   "name": "python3"
  },
  "language_info": {
   "codemirror_mode": {
    "name": "ipython",
    "version": 3
   },
   "file_extension": ".py",
   "mimetype": "text/x-python",
   "name": "python",
   "nbconvert_exporter": "python",
   "pygments_lexer": "ipython3",
   "version": "3.8.0"
  }
 },
 "nbformat": 4,
 "nbformat_minor": 5
}
