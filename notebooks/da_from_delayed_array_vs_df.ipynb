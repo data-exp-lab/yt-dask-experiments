{
 "cells": [
  {
   "cell_type": "markdown",
   "metadata": {},
   "source": [
    "### building a dask array without knowing sizes\n",
    "\n",
    "\n",
    "#### from dask.dataframe"
   ]
  },
  {
   "cell_type": "code",
   "execution_count": 1,
   "metadata": {},
   "outputs": [],
   "source": [
    "from dask import array as da, dataframe as ddf, delayed, compute\n",
    "import numpy as np\n",
    "import pandas as pd\n",
    "import matplotlib.pyplot as plt"
   ]
  },
  {
   "cell_type": "code",
   "execution_count": 2,
   "metadata": {},
   "outputs": [
    {
     "data": {
      "text/plain": [
       "<function dask.array.core.from_delayed(value, shape, dtype=None, meta=None, name=None)>"
      ]
     },
     "execution_count": 2,
     "metadata": {},
     "output_type": "execute_result"
    }
   ],
   "source": [
    "da.from_delayed"
   ]
  },
  {
   "cell_type": "code",
   "execution_count": 3,
   "metadata": {},
   "outputs": [],
   "source": [
    "def get_chunk_df(array_size,n_cols):\n",
    "    col_names = [f\"col_{i}\" for i in range(n_cols)]\n",
    "    pd_df = pd.DataFrame(\n",
    "                {nm:pd.Series(np.arange(array_size[0])) for ic,nm in enumerate(col_names)}\n",
    "            )\n",
    "    return pd_df\n",
    "\n",
    "def get_meta(n_cols):\n",
    "    col_names = [f\"col_{i}\" for i in range(n_cols)]\n",
    "    return {nm:pd.Series([], dtype=np.float64) for nm in col_names}\n",
    "\n",
    "n_cols = 5\n",
    "meta_dict = get_meta(n_cols)"
   ]
  },
  {
   "cell_type": "code",
   "execution_count": 4,
   "metadata": {},
   "outputs": [],
   "source": [
    "delayed_chunks = [delayed(get_chunk_df)((10000+10*ch,),n_cols) for ch in range(0,5)]"
   ]
  },
  {
   "cell_type": "code",
   "execution_count": 5,
   "metadata": {},
   "outputs": [],
   "source": [
    "df_delayed = ddf.from_delayed(delayed_chunks,meta=meta_dict)"
   ]
  },
  {
   "cell_type": "code",
   "execution_count": 6,
   "metadata": {},
   "outputs": [
    {
     "data": {
      "text/html": [
       "<div><strong>Dask DataFrame Structure:</strong></div>\n",
       "<div>\n",
       "<style scoped>\n",
       "    .dataframe tbody tr th:only-of-type {\n",
       "        vertical-align: middle;\n",
       "    }\n",
       "\n",
       "    .dataframe tbody tr th {\n",
       "        vertical-align: top;\n",
       "    }\n",
       "\n",
       "    .dataframe thead th {\n",
       "        text-align: right;\n",
       "    }\n",
       "</style>\n",
       "<table border=\"1\" class=\"dataframe\">\n",
       "  <thead>\n",
       "    <tr style=\"text-align: right;\">\n",
       "      <th></th>\n",
       "      <th>col_0</th>\n",
       "      <th>col_1</th>\n",
       "      <th>col_2</th>\n",
       "      <th>col_3</th>\n",
       "      <th>col_4</th>\n",
       "    </tr>\n",
       "    <tr>\n",
       "      <th>npartitions=5</th>\n",
       "      <th></th>\n",
       "      <th></th>\n",
       "      <th></th>\n",
       "      <th></th>\n",
       "      <th></th>\n",
       "    </tr>\n",
       "  </thead>\n",
       "  <tbody>\n",
       "    <tr>\n",
       "      <th></th>\n",
       "      <td>float64</td>\n",
       "      <td>float64</td>\n",
       "      <td>float64</td>\n",
       "      <td>float64</td>\n",
       "      <td>float64</td>\n",
       "    </tr>\n",
       "    <tr>\n",
       "      <th></th>\n",
       "      <td>...</td>\n",
       "      <td>...</td>\n",
       "      <td>...</td>\n",
       "      <td>...</td>\n",
       "      <td>...</td>\n",
       "    </tr>\n",
       "    <tr>\n",
       "      <th>...</th>\n",
       "      <td>...</td>\n",
       "      <td>...</td>\n",
       "      <td>...</td>\n",
       "      <td>...</td>\n",
       "      <td>...</td>\n",
       "    </tr>\n",
       "    <tr>\n",
       "      <th></th>\n",
       "      <td>...</td>\n",
       "      <td>...</td>\n",
       "      <td>...</td>\n",
       "      <td>...</td>\n",
       "      <td>...</td>\n",
       "    </tr>\n",
       "    <tr>\n",
       "      <th></th>\n",
       "      <td>...</td>\n",
       "      <td>...</td>\n",
       "      <td>...</td>\n",
       "      <td>...</td>\n",
       "      <td>...</td>\n",
       "    </tr>\n",
       "  </tbody>\n",
       "</table>\n",
       "</div>\n",
       "<div>Dask Name: from-delayed, 10 tasks</div>"
      ],
      "text/plain": [
       "Dask DataFrame Structure:\n",
       "                 col_0    col_1    col_2    col_3    col_4\n",
       "npartitions=5                                             \n",
       "               float64  float64  float64  float64  float64\n",
       "                   ...      ...      ...      ...      ...\n",
       "...                ...      ...      ...      ...      ...\n",
       "                   ...      ...      ...      ...      ...\n",
       "                   ...      ...      ...      ...      ...\n",
       "Dask Name: from-delayed, 10 tasks"
      ]
     },
     "execution_count": 6,
     "metadata": {},
     "output_type": "execute_result"
    }
   ],
   "source": [
    "df_delayed"
   ]
  },
  {
   "cell_type": "code",
   "execution_count": 7,
   "metadata": {},
   "outputs": [],
   "source": [
    "df = df_delayed.compute()"
   ]
  },
  {
   "cell_type": "code",
   "execution_count": 8,
   "metadata": {},
   "outputs": [
    {
     "data": {
      "text/html": [
       "<div>\n",
       "<style scoped>\n",
       "    .dataframe tbody tr th:only-of-type {\n",
       "        vertical-align: middle;\n",
       "    }\n",
       "\n",
       "    .dataframe tbody tr th {\n",
       "        vertical-align: top;\n",
       "    }\n",
       "\n",
       "    .dataframe thead th {\n",
       "        text-align: right;\n",
       "    }\n",
       "</style>\n",
       "<table border=\"1\" class=\"dataframe\">\n",
       "  <thead>\n",
       "    <tr style=\"text-align: right;\">\n",
       "      <th></th>\n",
       "      <th>col_0</th>\n",
       "      <th>col_1</th>\n",
       "      <th>col_2</th>\n",
       "      <th>col_3</th>\n",
       "      <th>col_4</th>\n",
       "    </tr>\n",
       "  </thead>\n",
       "  <tbody>\n",
       "    <tr>\n",
       "      <th>0</th>\n",
       "      <td>0</td>\n",
       "      <td>0</td>\n",
       "      <td>0</td>\n",
       "      <td>0</td>\n",
       "      <td>0</td>\n",
       "    </tr>\n",
       "    <tr>\n",
       "      <th>1</th>\n",
       "      <td>1</td>\n",
       "      <td>1</td>\n",
       "      <td>1</td>\n",
       "      <td>1</td>\n",
       "      <td>1</td>\n",
       "    </tr>\n",
       "    <tr>\n",
       "      <th>2</th>\n",
       "      <td>2</td>\n",
       "      <td>2</td>\n",
       "      <td>2</td>\n",
       "      <td>2</td>\n",
       "      <td>2</td>\n",
       "    </tr>\n",
       "    <tr>\n",
       "      <th>3</th>\n",
       "      <td>3</td>\n",
       "      <td>3</td>\n",
       "      <td>3</td>\n",
       "      <td>3</td>\n",
       "      <td>3</td>\n",
       "    </tr>\n",
       "    <tr>\n",
       "      <th>4</th>\n",
       "      <td>4</td>\n",
       "      <td>4</td>\n",
       "      <td>4</td>\n",
       "      <td>4</td>\n",
       "      <td>4</td>\n",
       "    </tr>\n",
       "  </tbody>\n",
       "</table>\n",
       "</div>"
      ],
      "text/plain": [
       "   col_0  col_1  col_2  col_3  col_4\n",
       "0      0      0      0      0      0\n",
       "1      1      1      1      1      1\n",
       "2      2      2      2      2      2\n",
       "3      3      3      3      3      3\n",
       "4      4      4      4      4      4"
      ]
     },
     "execution_count": 8,
     "metadata": {},
     "output_type": "execute_result"
    }
   ],
   "source": [
    "df.head()"
   ]
  },
  {
   "cell_type": "code",
   "execution_count": 9,
   "metadata": {},
   "outputs": [
    {
     "data": {
      "text/plain": [
       "250500"
      ]
     },
     "execution_count": 9,
     "metadata": {},
     "output_type": "execute_result"
    }
   ],
   "source": [
    "df.size"
   ]
  },
  {
   "cell_type": "code",
   "execution_count": 10,
   "metadata": {},
   "outputs": [
    {
     "data": {
      "text/plain": [
       "pandas.core.frame.DataFrame"
      ]
     },
     "execution_count": 10,
     "metadata": {},
     "output_type": "execute_result"
    }
   ],
   "source": [
    "type(df)"
   ]
  },
  {
   "cell_type": "code",
   "execution_count": 11,
   "metadata": {},
   "outputs": [],
   "source": [
    "col0 = df_delayed['col_0'].to_dask_array()"
   ]
  },
  {
   "cell_type": "code",
   "execution_count": 12,
   "metadata": {},
   "outputs": [
    {
     "data": {
      "text/html": [
       "<table>\n",
       "<tr>\n",
       "<td>\n",
       "<table>\n",
       "  <thead>\n",
       "    <tr><td> </td><th> Array </th><th> Chunk </th></tr>\n",
       "  </thead>\n",
       "  <tbody>\n",
       "    <tr><th> Bytes </th><td> unknown </td> <td> unknown </td></tr>\n",
       "    <tr><th> Shape </th><td> (nan,) </td> <td> (nan,) </td></tr>\n",
       "    <tr><th> Count </th><td> 20 Tasks </td><td> 5 Chunks </td></tr>\n",
       "    <tr><th> Type </th><td> float64 </td><td> numpy.ndarray </td></tr>\n",
       "  </tbody>\n",
       "</table>\n",
       "</td>\n",
       "<td>\n",
       "\n",
       "</td>\n",
       "</tr>\n",
       "</table>"
      ],
      "text/plain": [
       "dask.array<values, shape=(nan,), dtype=float64, chunksize=(nan,), chunktype=numpy.ndarray>"
      ]
     },
     "execution_count": 12,
     "metadata": {},
     "output_type": "execute_result"
    }
   ],
   "source": [
    "col0"
   ]
  },
  {
   "cell_type": "code",
   "execution_count": 13,
   "metadata": {},
   "outputs": [
    {
     "data": {
      "text/html": [
       "<table>\n",
       "<tr>\n",
       "<td>\n",
       "<table>\n",
       "  <thead>\n",
       "    <tr><td> </td><th> Array </th><th> Chunk </th></tr>\n",
       "  </thead>\n",
       "  <tbody>\n",
       "    <tr><th> Bytes </th><td> 8 B </td> <td> 8 B </td></tr>\n",
       "    <tr><th> Shape </th><td> () </td> <td> () </td></tr>\n",
       "    <tr><th> Count </th><td> 28 Tasks </td><td> 1 Chunks </td></tr>\n",
       "    <tr><th> Type </th><td> float64 </td><td> numpy.ndarray </td></tr>\n",
       "  </tbody>\n",
       "</table>\n",
       "</td>\n",
       "<td>\n",
       "\n",
       "</td>\n",
       "</tr>\n",
       "</table>"
      ],
      "text/plain": [
       "dask.array<amin-aggregate, shape=(), dtype=float64, chunksize=(), chunktype=numpy.ndarray>"
      ]
     },
     "execution_count": 13,
     "metadata": {},
     "output_type": "execute_result"
    }
   ],
   "source": [
    "col0.min()"
   ]
  },
  {
   "cell_type": "code",
   "execution_count": 14,
   "metadata": {},
   "outputs": [
    {
     "data": {
      "text/plain": [
       "10039"
      ]
     },
     "execution_count": 14,
     "metadata": {},
     "output_type": "execute_result"
    }
   ],
   "source": [
    "col0.max().compute()"
   ]
  },
  {
   "cell_type": "code",
   "execution_count": 15,
   "metadata": {},
   "outputs": [
    {
     "data": {
      "text/plain": [
       "10039"
      ]
     },
     "execution_count": 15,
     "metadata": {},
     "output_type": "execute_result"
    }
   ],
   "source": [
    "col0.max().compute()"
   ]
  },
  {
   "cell_type": "code",
   "execution_count": 16,
   "metadata": {},
   "outputs": [],
   "source": [
    "col0np = col0.compute()\n"
   ]
  },
  {
   "cell_type": "code",
   "execution_count": 17,
   "metadata": {},
   "outputs": [
    {
     "data": {
      "text/plain": [
       "(50100,)"
      ]
     },
     "execution_count": 17,
     "metadata": {},
     "output_type": "execute_result"
    }
   ],
   "source": [
    "col0np.shape"
   ]
  },
  {
   "cell_type": "code",
   "execution_count": 18,
   "metadata": {},
   "outputs": [
    {
     "data": {
      "text/plain": [
       "10039"
      ]
     },
     "execution_count": 18,
     "metadata": {},
     "output_type": "execute_result"
    }
   ],
   "source": [
    "col0np.max()"
   ]
  },
  {
   "cell_type": "markdown",
   "metadata": {},
   "source": [
    "### direct from_array?"
   ]
  },
  {
   "cell_type": "code",
   "execution_count": 19,
   "metadata": {},
   "outputs": [],
   "source": [
    "delayed_arrays=[]\n",
    "for ichunk in range(0,5):\n",
    "    ra_size = 10000+10*ichunk\n",
    "    delayed_array = delayed(np.arange)(ra_size)\n",
    "    delayed_arrays.append(da.from_delayed(delayed_array, (ra_size,), dtype=float))        "
   ]
  },
  {
   "cell_type": "code",
   "execution_count": 20,
   "metadata": {},
   "outputs": [
    {
     "data": {
      "text/plain": [
       "[dask.array<from-value, shape=(10000,), dtype=float64, chunksize=(10000,), chunktype=numpy.ndarray>,\n",
       " dask.array<from-value, shape=(10010,), dtype=float64, chunksize=(10010,), chunktype=numpy.ndarray>,\n",
       " dask.array<from-value, shape=(10020,), dtype=float64, chunksize=(10020,), chunktype=numpy.ndarray>,\n",
       " dask.array<from-value, shape=(10030,), dtype=float64, chunksize=(10030,), chunktype=numpy.ndarray>,\n",
       " dask.array<from-value, shape=(10040,), dtype=float64, chunksize=(10040,), chunktype=numpy.ndarray>]"
      ]
     },
     "execution_count": 20,
     "metadata": {},
     "output_type": "execute_result"
    }
   ],
   "source": [
    "delayed_arrays"
   ]
  },
  {
   "cell_type": "code",
   "execution_count": 21,
   "metadata": {},
   "outputs": [],
   "source": [
    "hda = da.hstack(delayed_arrays)"
   ]
  },
  {
   "cell_type": "code",
   "execution_count": 22,
   "metadata": {},
   "outputs": [
    {
     "data": {
      "text/html": [
       "<table>\n",
       "<tr>\n",
       "<td>\n",
       "<table>\n",
       "  <thead>\n",
       "    <tr><td> </td><th> Array </th><th> Chunk </th></tr>\n",
       "  </thead>\n",
       "  <tbody>\n",
       "    <tr><th> Bytes </th><td> 400.80 kB </td> <td> 80.32 kB </td></tr>\n",
       "    <tr><th> Shape </th><td> (50100,) </td> <td> (10040,) </td></tr>\n",
       "    <tr><th> Count </th><td> 15 Tasks </td><td> 5 Chunks </td></tr>\n",
       "    <tr><th> Type </th><td> float64 </td><td> numpy.ndarray </td></tr>\n",
       "  </tbody>\n",
       "</table>\n",
       "</td>\n",
       "<td>\n",
       "<svg width=\"170\" height=\"75\" style=\"stroke:rgb(0,0,0);stroke-width:1\" >\n",
       "\n",
       "  <!-- Horizontal lines -->\n",
       "  <line x1=\"0\" y1=\"0\" x2=\"120\" y2=\"0\" style=\"stroke-width:2\" />\n",
       "  <line x1=\"0\" y1=\"25\" x2=\"120\" y2=\"25\" style=\"stroke-width:2\" />\n",
       "\n",
       "  <!-- Vertical lines -->\n",
       "  <line x1=\"0\" y1=\"0\" x2=\"0\" y2=\"25\" style=\"stroke-width:2\" />\n",
       "  <line x1=\"23\" y1=\"0\" x2=\"23\" y2=\"25\" />\n",
       "  <line x1=\"47\" y1=\"0\" x2=\"47\" y2=\"25\" />\n",
       "  <line x1=\"71\" y1=\"0\" x2=\"71\" y2=\"25\" />\n",
       "  <line x1=\"95\" y1=\"0\" x2=\"95\" y2=\"25\" />\n",
       "  <line x1=\"120\" y1=\"0\" x2=\"120\" y2=\"25\" style=\"stroke-width:2\" />\n",
       "\n",
       "  <!-- Colored Rectangle -->\n",
       "  <polygon points=\"0.000000,0.000000 120.000000,0.000000 120.000000,25.412617 0.000000,25.412617\" style=\"fill:#ECB172A0;stroke-width:0\"/>\n",
       "\n",
       "  <!-- Text -->\n",
       "  <text x=\"60.000000\" y=\"45.412617\" font-size=\"1.0rem\" font-weight=\"100\" text-anchor=\"middle\" >50100</text>\n",
       "  <text x=\"140.000000\" y=\"12.706308\" font-size=\"1.0rem\" font-weight=\"100\" text-anchor=\"middle\" transform=\"rotate(0,140.000000,12.706308)\">1</text>\n",
       "</svg>\n",
       "</td>\n",
       "</tr>\n",
       "</table>"
      ],
      "text/plain": [
       "dask.array<concatenate, shape=(50100,), dtype=float64, chunksize=(10040,), chunktype=numpy.ndarray>"
      ]
     },
     "execution_count": 22,
     "metadata": {},
     "output_type": "execute_result"
    }
   ],
   "source": [
    "hda"
   ]
  },
  {
   "cell_type": "code",
   "execution_count": 23,
   "metadata": {},
   "outputs": [],
   "source": [
    "def get_delayed_array(base_chunk_size,n_chunks):\n",
    "    delayed_arrays = []\n",
    "    for ichunk in range(0,n_chunks):\n",
    "        ra_size = base_chunk_size+10*ichunk\n",
    "        delayed_array = delayed(np.arange)(ra_size)\n",
    "        delayed_arrays.append(da.from_delayed(delayed_array, (ra_size,), dtype=float))        \n",
    "    return da.hstack(delayed_arrays)\n",
    "\n",
    "def get_delayed_array_from_df(base_chunk_size,n_chunks):    \n",
    "    meta_dict = get_meta(1)\n",
    "    delayed_chunks = [delayed(get_chunk_df)((base_chunk_size+10*ch,),1) for ch in range(0,n_chunks)]\n",
    "    df_delayed = ddf.from_delayed(delayed_chunks,meta=meta_dict)\n",
    "    return df_delayed[list(meta_dict.keys())[0]].to_dask_array()"
   ]
  },
  {
   "cell_type": "code",
   "execution_count": 24,
   "metadata": {},
   "outputs": [],
   "source": [
    "n_chunks = 5\n",
    "base_chunk_size = 1000"
   ]
  },
  {
   "cell_type": "code",
   "execution_count": 25,
   "metadata": {},
   "outputs": [],
   "source": [
    "array_from_hstack = get_delayed_array(base_chunk_size,n_chunks)\n",
    "array_from_df = get_delayed_array_from_df(base_chunk_size,n_chunks)"
   ]
  },
  {
   "cell_type": "code",
   "execution_count": 26,
   "metadata": {},
   "outputs": [
    {
     "data": {
      "text/html": [
       "<table>\n",
       "<tr>\n",
       "<td>\n",
       "<table>\n",
       "  <thead>\n",
       "    <tr><td> </td><th> Array </th><th> Chunk </th></tr>\n",
       "  </thead>\n",
       "  <tbody>\n",
       "    <tr><th> Bytes </th><td> 40.80 kB </td> <td> 8.32 kB </td></tr>\n",
       "    <tr><th> Shape </th><td> (5100,) </td> <td> (1040,) </td></tr>\n",
       "    <tr><th> Count </th><td> 15 Tasks </td><td> 5 Chunks </td></tr>\n",
       "    <tr><th> Type </th><td> float64 </td><td> numpy.ndarray </td></tr>\n",
       "  </tbody>\n",
       "</table>\n",
       "</td>\n",
       "<td>\n",
       "<svg width=\"170\" height=\"75\" style=\"stroke:rgb(0,0,0);stroke-width:1\" >\n",
       "\n",
       "  <!-- Horizontal lines -->\n",
       "  <line x1=\"0\" y1=\"0\" x2=\"120\" y2=\"0\" style=\"stroke-width:2\" />\n",
       "  <line x1=\"0\" y1=\"25\" x2=\"120\" y2=\"25\" style=\"stroke-width:2\" />\n",
       "\n",
       "  <!-- Vertical lines -->\n",
       "  <line x1=\"0\" y1=\"0\" x2=\"0\" y2=\"25\" style=\"stroke-width:2\" />\n",
       "  <line x1=\"23\" y1=\"0\" x2=\"23\" y2=\"25\" />\n",
       "  <line x1=\"47\" y1=\"0\" x2=\"47\" y2=\"25\" />\n",
       "  <line x1=\"71\" y1=\"0\" x2=\"71\" y2=\"25\" />\n",
       "  <line x1=\"95\" y1=\"0\" x2=\"95\" y2=\"25\" />\n",
       "  <line x1=\"120\" y1=\"0\" x2=\"120\" y2=\"25\" style=\"stroke-width:2\" />\n",
       "\n",
       "  <!-- Colored Rectangle -->\n",
       "  <polygon points=\"0.000000,0.000000 120.000000,0.000000 120.000000,25.412617 0.000000,25.412617\" style=\"fill:#ECB172A0;stroke-width:0\"/>\n",
       "\n",
       "  <!-- Text -->\n",
       "  <text x=\"60.000000\" y=\"45.412617\" font-size=\"1.0rem\" font-weight=\"100\" text-anchor=\"middle\" >5100</text>\n",
       "  <text x=\"140.000000\" y=\"12.706308\" font-size=\"1.0rem\" font-weight=\"100\" text-anchor=\"middle\" transform=\"rotate(0,140.000000,12.706308)\">1</text>\n",
       "</svg>\n",
       "</td>\n",
       "</tr>\n",
       "</table>"
      ],
      "text/plain": [
       "dask.array<concatenate, shape=(5100,), dtype=float64, chunksize=(1040,), chunktype=numpy.ndarray>"
      ]
     },
     "execution_count": 26,
     "metadata": {},
     "output_type": "execute_result"
    }
   ],
   "source": [
    "array_from_hstack"
   ]
  },
  {
   "cell_type": "code",
   "execution_count": 27,
   "metadata": {},
   "outputs": [
    {
     "data": {
      "text/html": [
       "<table>\n",
       "<tr>\n",
       "<td>\n",
       "<table>\n",
       "  <thead>\n",
       "    <tr><td> </td><th> Array </th><th> Chunk </th></tr>\n",
       "  </thead>\n",
       "  <tbody>\n",
       "    <tr><th> Bytes </th><td> unknown </td> <td> unknown </td></tr>\n",
       "    <tr><th> Shape </th><td> (nan,) </td> <td> (nan,) </td></tr>\n",
       "    <tr><th> Count </th><td> 20 Tasks </td><td> 5 Chunks </td></tr>\n",
       "    <tr><th> Type </th><td> float64 </td><td> numpy.ndarray </td></tr>\n",
       "  </tbody>\n",
       "</table>\n",
       "</td>\n",
       "<td>\n",
       "\n",
       "</td>\n",
       "</tr>\n",
       "</table>"
      ],
      "text/plain": [
       "dask.array<values, shape=(nan,), dtype=float64, chunksize=(nan,), chunktype=numpy.ndarray>"
      ]
     },
     "execution_count": 27,
     "metadata": {},
     "output_type": "execute_result"
    }
   ],
   "source": [
    "array_from_df"
   ]
  },
  {
   "cell_type": "code",
   "execution_count": 28,
   "metadata": {},
   "outputs": [],
   "source": [
    "h_array = array_from_hstack.compute()\n"
   ]
  },
  {
   "cell_type": "code",
   "execution_count": 29,
   "metadata": {},
   "outputs": [],
   "source": [
    "df_array = array_from_df.compute()"
   ]
  },
  {
   "cell_type": "code",
   "execution_count": 30,
   "metadata": {},
   "outputs": [
    {
     "data": {
      "text/plain": [
       "(5100,)"
      ]
     },
     "execution_count": 30,
     "metadata": {},
     "output_type": "execute_result"
    }
   ],
   "source": [
    "h_array.shape"
   ]
  },
  {
   "cell_type": "code",
   "execution_count": 31,
   "metadata": {},
   "outputs": [
    {
     "data": {
      "text/plain": [
       "(5100,)"
      ]
     },
     "execution_count": 31,
     "metadata": {},
     "output_type": "execute_result"
    }
   ],
   "source": [
    "df_array.shape"
   ]
  },
  {
   "cell_type": "code",
   "execution_count": 32,
   "metadata": {},
   "outputs": [
    {
     "data": {
      "text/plain": [
       "True"
      ]
     },
     "execution_count": 32,
     "metadata": {},
     "output_type": "execute_result"
    }
   ],
   "source": [
    "np.all(h_array==df_array)"
   ]
  },
  {
   "cell_type": "markdown",
   "metadata": {},
   "source": [
    "### comparison"
   ]
  },
  {
   "cell_type": "code",
   "execution_count": 34,
   "metadata": {},
   "outputs": [],
   "source": [
    "def array_construct_compute(base_chunk_size,n_chunks,find_mean=False):\n",
    "    res1 = get_delayed_array(base_chunk_size,n_chunks)\n",
    "    if find_mean:\n",
    "        r = res1.mean().compute()\n",
    "    else:\n",
    "        r = res1.compute()\n",
    "    return\n",
    "\n",
    "def df_construct_compute(base_chunk_size,n_chunks,find_mean=False):\n",
    "    res1 = get_delayed_array_from_df(base_chunk_size,n_chunks)\n",
    "    if find_mean:\n",
    "        r = res1.mean().compute()\n",
    "    else:\n",
    "        r = res1.compute()\n",
    "    return"
   ]
  },
  {
   "cell_type": "code",
   "execution_count": 47,
   "metadata": {},
   "outputs": [
    {
     "name": "stdout",
     "output_type": "stream",
     "text": [
      "1.43 ms ± 224 µs per loop (mean ± std. dev. of 5 runs, 10 loops each)\n",
      "8.54 ms ± 1.99 ms per loop (mean ± std. dev. of 5 runs, 10 loops each)\n",
      "5.62 ms ± 273 µs per loop (mean ± std. dev. of 5 runs, 10 loops each)\n",
      "32.3 ms ± 7.26 ms per loop (mean ± std. dev. of 5 runs, 10 loops each)\n",
      "7.16 ms ± 2.42 ms per loop (mean ± std. dev. of 5 runs, 10 loops each)\n",
      "54.8 ms ± 10.1 ms per loop (mean ± std. dev. of 5 runs, 10 loops each)\n",
      "11.5 ms ± 936 µs per loop (mean ± std. dev. of 5 runs, 10 loops each)\n",
      "71.6 ms ± 15 ms per loop (mean ± std. dev. of 5 runs, 10 loops each)\n",
      "15.4 ms ± 1.04 ms per loop (mean ± std. dev. of 5 runs, 10 loops each)\n",
      "76.8 ms ± 18.6 ms per loop (mean ± std. dev. of 5 runs, 10 loops each)\n",
      "9.97 ms ± 647 µs per loop (mean ± std. dev. of 5 runs, 10 loops each)\n",
      "118 ms ± 12.6 ms per loop (mean ± std. dev. of 5 runs, 10 loops each)\n",
      "14.4 ms ± 1.79 ms per loop (mean ± std. dev. of 5 runs, 10 loops each)\n",
      "168 ms ± 11 ms per loop (mean ± std. dev. of 5 runs, 10 loops each)\n",
      "16.1 ms ± 2.97 ms per loop (mean ± std. dev. of 5 runs, 10 loops each)\n",
      "144 ms ± 32 ms per loop (mean ± std. dev. of 5 runs, 10 loops each)\n",
      "16.9 ms ± 1.09 ms per loop (mean ± std. dev. of 5 runs, 10 loops each)\n",
      "157 ms ± 19.8 ms per loop (mean ± std. dev. of 5 runs, 10 loops each)\n",
      "17.2 ms ± 434 µs per loop (mean ± std. dev. of 5 runs, 10 loops each)\n",
      "178 ms ± 17.3 ms per loop (mean ± std. dev. of 5 runs, 10 loops each)\n",
      "18.6 ms ± 411 µs per loop (mean ± std. dev. of 5 runs, 10 loops each)\n",
      "213 ms ± 9.87 ms per loop (mean ± std. dev. of 5 runs, 10 loops each)\n",
      "20.5 ms ± 780 µs per loop (mean ± std. dev. of 5 runs, 10 loops each)\n",
      "222 ms ± 13.4 ms per loop (mean ± std. dev. of 5 runs, 10 loops each)\n",
      "21.7 ms ± 658 µs per loop (mean ± std. dev. of 5 runs, 10 loops each)\n",
      "235 ms ± 11.1 ms per loop (mean ± std. dev. of 5 runs, 10 loops each)\n",
      "23.2 ms ± 569 µs per loop (mean ± std. dev. of 5 runs, 10 loops each)\n",
      "247 ms ± 13.5 ms per loop (mean ± std. dev. of 5 runs, 10 loops each)\n",
      "24.7 ms ± 311 µs per loop (mean ± std. dev. of 5 runs, 10 loops each)\n",
      "257 ms ± 19.4 ms per loop (mean ± std. dev. of 5 runs, 10 loops each)\n",
      "26.5 ms ± 472 µs per loop (mean ± std. dev. of 5 runs, 10 loops each)\n",
      "246 ms ± 13.2 ms per loop (mean ± std. dev. of 5 runs, 10 loops each)\n",
      "28.7 ms ± 639 µs per loop (mean ± std. dev. of 5 runs, 10 loops each)\n",
      "298 ms ± 28.1 ms per loop (mean ± std. dev. of 5 runs, 10 loops each)\n",
      "29.4 ms ± 427 µs per loop (mean ± std. dev. of 5 runs, 10 loops each)\n",
      "285 ms ± 16.3 ms per loop (mean ± std. dev. of 5 runs, 10 loops each)\n",
      "31.9 ms ± 794 µs per loop (mean ± std. dev. of 5 runs, 10 loops each)\n",
      "319 ms ± 21.1 ms per loop (mean ± std. dev. of 5 runs, 10 loops each)\n",
      "32.5 ms ± 214 µs per loop (mean ± std. dev. of 5 runs, 10 loops each)\n",
      "340 ms ± 17.8 ms per loop (mean ± std. dev. of 5 runs, 10 loops each)\n"
     ]
    }
   ],
   "source": [
    "base_chunk_size = 100000\n",
    "test_chunks = np.arange(2,100,5)\n",
    "results = pd.DataFrame()\n",
    "for n_chunks in test_chunks:    \n",
    "    time_result_ar = %timeit -n10 -r5 -o array_construct_compute(base_chunk_size,n_chunks)\n",
    "    time_result_df = %timeit -n10 -r5 -o df_construct_compute(base_chunk_size,n_chunks)        \n",
    "    new_row = {\n",
    "               'chunks':n_chunks,'base_size':base_chunk_size,\"actual_size\":n_chunks * (base_chunk_size + 10),\n",
    "               'direct_mean':time_result_ar.average,'direct_std':time_result_ar.stdev,\n",
    "               'indirect_mean':time_result_df.average,'indirect_std':time_result_df.stdev,\n",
    "              }\n",
    "    results = results.append([new_row],ignore_index=True)\n",
    "    "
   ]
  },
  {
   "cell_type": "code",
   "execution_count": 48,
   "metadata": {},
   "outputs": [
    {
     "data": {
      "text/html": [
       "<div>\n",
       "<style scoped>\n",
       "    .dataframe tbody tr th:only-of-type {\n",
       "        vertical-align: middle;\n",
       "    }\n",
       "\n",
       "    .dataframe tbody tr th {\n",
       "        vertical-align: top;\n",
       "    }\n",
       "\n",
       "    .dataframe thead th {\n",
       "        text-align: right;\n",
       "    }\n",
       "</style>\n",
       "<table border=\"1\" class=\"dataframe\">\n",
       "  <thead>\n",
       "    <tr style=\"text-align: right;\">\n",
       "      <th></th>\n",
       "      <th>chunks</th>\n",
       "      <th>base_size</th>\n",
       "      <th>actual_size</th>\n",
       "      <th>direct_mean</th>\n",
       "      <th>direct_std</th>\n",
       "      <th>indirect_mean</th>\n",
       "      <th>indirect_std</th>\n",
       "    </tr>\n",
       "  </thead>\n",
       "  <tbody>\n",
       "    <tr>\n",
       "      <th>0</th>\n",
       "      <td>2</td>\n",
       "      <td>100000</td>\n",
       "      <td>200020</td>\n",
       "      <td>0.001429</td>\n",
       "      <td>0.000224</td>\n",
       "      <td>0.008536</td>\n",
       "      <td>0.001995</td>\n",
       "    </tr>\n",
       "    <tr>\n",
       "      <th>1</th>\n",
       "      <td>7</td>\n",
       "      <td>100000</td>\n",
       "      <td>700070</td>\n",
       "      <td>0.005616</td>\n",
       "      <td>0.000273</td>\n",
       "      <td>0.032279</td>\n",
       "      <td>0.007261</td>\n",
       "    </tr>\n",
       "    <tr>\n",
       "      <th>2</th>\n",
       "      <td>12</td>\n",
       "      <td>100000</td>\n",
       "      <td>1200120</td>\n",
       "      <td>0.007160</td>\n",
       "      <td>0.002421</td>\n",
       "      <td>0.054822</td>\n",
       "      <td>0.010072</td>\n",
       "    </tr>\n",
       "    <tr>\n",
       "      <th>3</th>\n",
       "      <td>17</td>\n",
       "      <td>100000</td>\n",
       "      <td>1700170</td>\n",
       "      <td>0.011477</td>\n",
       "      <td>0.000936</td>\n",
       "      <td>0.071635</td>\n",
       "      <td>0.014953</td>\n",
       "    </tr>\n",
       "    <tr>\n",
       "      <th>4</th>\n",
       "      <td>22</td>\n",
       "      <td>100000</td>\n",
       "      <td>2200220</td>\n",
       "      <td>0.015374</td>\n",
       "      <td>0.001036</td>\n",
       "      <td>0.076840</td>\n",
       "      <td>0.018632</td>\n",
       "    </tr>\n",
       "  </tbody>\n",
       "</table>\n",
       "</div>"
      ],
      "text/plain": [
       "   chunks  base_size  actual_size  direct_mean  direct_std  indirect_mean  \\\n",
       "0       2     100000       200020     0.001429    0.000224       0.008536   \n",
       "1       7     100000       700070     0.005616    0.000273       0.032279   \n",
       "2      12     100000      1200120     0.007160    0.002421       0.054822   \n",
       "3      17     100000      1700170     0.011477    0.000936       0.071635   \n",
       "4      22     100000      2200220     0.015374    0.001036       0.076840   \n",
       "\n",
       "   indirect_std  \n",
       "0      0.001995  \n",
       "1      0.007261  \n",
       "2      0.010072  \n",
       "3      0.014953  \n",
       "4      0.018632  "
      ]
     },
     "execution_count": 48,
     "metadata": {},
     "output_type": "execute_result"
    }
   ],
   "source": [
    "results.head()"
   ]
  },
  {
   "cell_type": "code",
   "execution_count": 49,
   "metadata": {},
   "outputs": [],
   "source": [
    "def plot_results(results,xvar='chunks',log_x=False,log_y=True,second_x=None):\n",
    "    fig = plt.figure()\n",
    "    clrs = [[0,0,0,1],[1,0,0,1]]  \n",
    "    ax1 = plt.subplot(2,1,1)\n",
    "    xvals = results[xvar]\n",
    "    for fld,clr in zip(['direct','indirect'],clrs):                \n",
    "        plt.plot(xvals,results[fld+'_mean'],color=clr,marker='.')\n",
    "        clr[3] = 0.5        \n",
    "        for pm in [1,-1]:\n",
    "            std_pm = results[fld+'_mean'] + results[fld+'_std']* pm *2           \n",
    "            plt.plot(xvals,std_pm,color=clr)\n",
    "\n",
    "    if log_y:\n",
    "        plt.yscale('log')\n",
    "    if log_x:\n",
    "        plt.xscale('log')\n",
    "        \n",
    "    plt.ylabel('time [s]')\n",
    "    \n",
    "    plt.subplot(2,1,2)\n",
    "    plt.plot(xvals,results.indirect_mean/results.direct_mean,color='k',marker='.')\n",
    "    plt.ylabel('indirect / direct ')\n",
    "    plt.xlabel(xvar)\n",
    "    if log_x:\n",
    "            plt.xscale('log')\n",
    "    return fig\n"
   ]
  },
  {
   "cell_type": "code",
   "execution_count": 50,
   "metadata": {},
   "outputs": [
    {
     "data": {
      "image/png": "[encoded data removed]",
      "text/plain": [
       "<Figure size 432x288 with 2 Axes>"
      ]
     },
     "metadata": {
      "needs_background": "light"
     },
     "output_type": "display_data"
    }
   ],
   "source": [
    "fig = plot_results(results,xvar='chunks')"
   ]
  },
  {
   "cell_type": "code",
   "execution_count": 59,
   "metadata": {},
   "outputs": [
    {
     "name": "stdout",
     "output_type": "stream",
     "text": [
      "2.64 ms ± 560 µs per loop (mean ± std. dev. of 5 runs, 10 loops each)\n",
      "7.94 ms ± 1.76 ms per loop (mean ± std. dev. of 5 runs, 10 loops each)\n",
      "6.87 ms ± 3.09 ms per loop (mean ± std. dev. of 5 runs, 10 loops each)\n",
      "40.9 ms ± 12.5 ms per loop (mean ± std. dev. of 5 runs, 10 loops each)\n",
      "11.5 ms ± 3.63 ms per loop (mean ± std. dev. of 5 runs, 10 loops each)\n",
      "78.4 ms ± 13.8 ms per loop (mean ± std. dev. of 5 runs, 10 loops each)\n",
      "20.6 ms ± 3.45 ms per loop (mean ± std. dev. of 5 runs, 10 loops each)\n",
      "95.6 ms ± 19.2 ms per loop (mean ± std. dev. of 5 runs, 10 loops each)\n",
      "14.7 ms ± 987 µs per loop (mean ± std. dev. of 5 runs, 10 loops each)\n",
      "113 ms ± 29.1 ms per loop (mean ± std. dev. of 5 runs, 10 loops each)\n",
      "12.9 ms ± 935 µs per loop (mean ± std. dev. of 5 runs, 10 loops each)\n",
      "149 ms ± 21.9 ms per loop (mean ± std. dev. of 5 runs, 10 loops each)\n",
      "15.7 ms ± 3.6 ms per loop (mean ± std. dev. of 5 runs, 10 loops each)\n",
      "142 ms ± 32.6 ms per loop (mean ± std. dev. of 5 runs, 10 loops each)\n",
      "15.9 ms ± 602 µs per loop (mean ± std. dev. of 5 runs, 10 loops each)\n",
      "215 ms ± 35.2 ms per loop (mean ± std. dev. of 5 runs, 10 loops each)\n",
      "17.7 ms ± 970 µs per loop (mean ± std. dev. of 5 runs, 10 loops each)\n",
      "260 ms ± 12.6 ms per loop (mean ± std. dev. of 5 runs, 10 loops each)\n",
      "22.3 ms ± 4.89 ms per loop (mean ± std. dev. of 5 runs, 10 loops each)\n",
      "286 ms ± 12.5 ms per loop (mean ± std. dev. of 5 runs, 10 loops each)\n",
      "21.7 ms ± 3.7 ms per loop (mean ± std. dev. of 5 runs, 10 loops each)\n",
      "310 ms ± 16.7 ms per loop (mean ± std. dev. of 5 runs, 10 loops each)\n",
      "22.1 ms ± 741 µs per loop (mean ± std. dev. of 5 runs, 10 loops each)\n",
      "301 ms ± 99.5 ms per loop (mean ± std. dev. of 5 runs, 10 loops each)\n",
      "23.9 ms ± 291 µs per loop (mean ± std. dev. of 5 runs, 10 loops each)\n",
      "382 ms ± 10.3 ms per loop (mean ± std. dev. of 5 runs, 10 loops each)\n",
      "26.8 ms ± 3.09 ms per loop (mean ± std. dev. of 5 runs, 10 loops each)\n",
      "392 ms ± 22.4 ms per loop (mean ± std. dev. of 5 runs, 10 loops each)\n",
      "28.7 ms ± 1.94 ms per loop (mean ± std. dev. of 5 runs, 10 loops each)\n",
      "400 ms ± 20.4 ms per loop (mean ± std. dev. of 5 runs, 10 loops each)\n",
      "29.9 ms ± 1.28 ms per loop (mean ± std. dev. of 5 runs, 10 loops each)\n",
      "428 ms ± 35.8 ms per loop (mean ± std. dev. of 5 runs, 10 loops each)\n",
      "31.2 ms ± 741 µs per loop (mean ± std. dev. of 5 runs, 10 loops each)\n",
      "461 ms ± 39.7 ms per loop (mean ± std. dev. of 5 runs, 10 loops each)\n",
      "32.4 ms ± 438 µs per loop (mean ± std. dev. of 5 runs, 10 loops each)\n",
      "442 ms ± 106 ms per loop (mean ± std. dev. of 5 runs, 10 loops each)\n",
      "34.9 ms ± 935 µs per loop (mean ± std. dev. of 5 runs, 10 loops each)\n",
      "468 ms ± 60.8 ms per loop (mean ± std. dev. of 5 runs, 10 loops each)\n",
      "35.9 ms ± 1.29 ms per loop (mean ± std. dev. of 5 runs, 10 loops each)\n",
      "554 ms ± 44.5 ms per loop (mean ± std. dev. of 5 runs, 10 loops each)\n"
     ]
    }
   ],
   "source": [
    "base_chunk_size = 100000\n",
    "test_chunks = np.arange(2,100,5)\n",
    "results_wmn = pd.DataFrame()\n",
    "for n_chunks in test_chunks:    \n",
    "    time_result_ar = %timeit -n10 -r5 -o array_construct_compute(base_chunk_size,n_chunks,True)\n",
    "    time_result_df = %timeit -n10 -r5 -o df_construct_compute(base_chunk_size,n_chunks, True)        \n",
    "    new_row = {\n",
    "               'chunks':n_chunks,'base_size':base_chunk_size,\"actual_size\":n_chunks * (base_chunk_size + 10),\n",
    "               'direct_mean':time_result_ar.average,'direct_std':time_result_ar.stdev,\n",
    "               'indirect_mean':time_result_df.average,'indirect_std':time_result_df.stdev,\n",
    "              }\n",
    "    results_wmn = results.append([new_row],ignore_index=True)"
   ]
  },
  {
   "cell_type": "code",
   "execution_count": 68,
   "metadata": {},
   "outputs": [
    {
     "data": {
      "image/png": "[encoded data removed]",
      "text/plain": [
       "<Figure size 432x288 with 2 Axes>"
      ]
     },
     "metadata": {
      "needs_background": "light"
     },
     "output_type": "display_data"
    }
   ],
   "source": [
    "fig = plot_results(results_wmn)"
   ]
  },
  {
   "cell_type": "code",
   "execution_count": 61,
   "metadata": {},
   "outputs": [
    {
     "name": "stdout",
     "output_type": "stream",
     "text": [
      "6.41 ms ± 1.97 ms per loop (mean ± std. dev. of 5 runs, 10 loops each)\n",
      "24.7 ms ± 3.7 ms per loop (mean ± std. dev. of 5 runs, 10 loops each)\n",
      "9.9 ms ± 3.92 ms per loop (mean ± std. dev. of 5 runs, 10 loops each)\n",
      "26.8 ms ± 4.61 ms per loop (mean ± std. dev. of 5 runs, 10 loops each)\n",
      "12.5 ms ± 3.55 ms per loop (mean ± std. dev. of 5 runs, 10 loops each)\n",
      "40.8 ms ± 7.36 ms per loop (mean ± std. dev. of 5 runs, 10 loops each)\n",
      "17 ms ± 2.43 ms per loop (mean ± std. dev. of 5 runs, 10 loops each)\n",
      "76.8 ms ± 3.5 ms per loop (mean ± std. dev. of 5 runs, 10 loops each)\n",
      "14.6 ms ± 5.19 ms per loop (mean ± std. dev. of 5 runs, 10 loops each)\n",
      "77.5 ms ± 6.73 ms per loop (mean ± std. dev. of 5 runs, 10 loops each)\n",
      "11.3 ms ± 3.36 ms per loop (mean ± std. dev. of 5 runs, 10 loops each)\n",
      "71.3 ms ± 7.27 ms per loop (mean ± std. dev. of 5 runs, 10 loops each)\n",
      "12 ms ± 972 µs per loop (mean ± std. dev. of 5 runs, 10 loops each)\n",
      "29.2 ms ± 280 µs per loop (mean ± std. dev. of 5 runs, 10 loops each)\n"
     ]
    }
   ],
   "source": [
    "test_sizes = np.logspace(3,6,9-3+1)\n",
    "n_chunks = 10\n",
    "results_by_size = pd.DataFrame()\n",
    "for base_chunk_size in test_sizes:    \n",
    "    time_result_ar = %timeit -n10 -r5 -o array_construct_compute(base_chunk_size,n_chunks,True)\n",
    "    time_result_df = %timeit -n10 -r5 -o df_construct_compute(base_chunk_size,n_chunks,True)\n",
    "    new_row = {\n",
    "               'chunks':n_chunks,'base_size':base_chunk_size,\"actual_size\":n_chunks * (base_chunk_size + 10),\n",
    "               'direct_mean':time_result_ar.average,'direct_std':time_result_ar.stdev,\n",
    "               'indirect_mean':time_result_df.average,'indirect_std':time_result_df.stdev,\n",
    "              }\n",
    "    results_by_size = results_by_size.append([new_row],ignore_index=True)\n",
    "        "
   ]
  },
  {
   "cell_type": "code",
   "execution_count": 62,
   "metadata": {},
   "outputs": [
    {
     "data": {
      "text/html": [
       "<div>\n",
       "<style scoped>\n",
       "    .dataframe tbody tr th:only-of-type {\n",
       "        vertical-align: middle;\n",
       "    }\n",
       "\n",
       "    .dataframe tbody tr th {\n",
       "        vertical-align: top;\n",
       "    }\n",
       "\n",
       "    .dataframe thead th {\n",
       "        text-align: right;\n",
       "    }\n",
       "</style>\n",
       "<table border=\"1\" class=\"dataframe\">\n",
       "  <thead>\n",
       "    <tr style=\"text-align: right;\">\n",
       "      <th></th>\n",
       "      <th>chunks</th>\n",
       "      <th>base_size</th>\n",
       "      <th>actual_size</th>\n",
       "      <th>direct_mean</th>\n",
       "      <th>direct_std</th>\n",
       "      <th>indirect_mean</th>\n",
       "      <th>indirect_std</th>\n",
       "    </tr>\n",
       "  </thead>\n",
       "  <tbody>\n",
       "    <tr>\n",
       "      <th>0</th>\n",
       "      <td>10</td>\n",
       "      <td>1000.000000</td>\n",
       "      <td>1.010000e+04</td>\n",
       "      <td>0.006412</td>\n",
       "      <td>0.001974</td>\n",
       "      <td>0.024670</td>\n",
       "      <td>0.003697</td>\n",
       "    </tr>\n",
       "    <tr>\n",
       "      <th>1</th>\n",
       "      <td>10</td>\n",
       "      <td>3162.277660</td>\n",
       "      <td>3.172278e+04</td>\n",
       "      <td>0.009905</td>\n",
       "      <td>0.003915</td>\n",
       "      <td>0.026775</td>\n",
       "      <td>0.004613</td>\n",
       "    </tr>\n",
       "    <tr>\n",
       "      <th>2</th>\n",
       "      <td>10</td>\n",
       "      <td>10000.000000</td>\n",
       "      <td>1.001000e+05</td>\n",
       "      <td>0.012499</td>\n",
       "      <td>0.003549</td>\n",
       "      <td>0.040845</td>\n",
       "      <td>0.007361</td>\n",
       "    </tr>\n",
       "    <tr>\n",
       "      <th>3</th>\n",
       "      <td>10</td>\n",
       "      <td>31622.776602</td>\n",
       "      <td>3.163278e+05</td>\n",
       "      <td>0.017004</td>\n",
       "      <td>0.002429</td>\n",
       "      <td>0.076810</td>\n",
       "      <td>0.003497</td>\n",
       "    </tr>\n",
       "    <tr>\n",
       "      <th>4</th>\n",
       "      <td>10</td>\n",
       "      <td>100000.000000</td>\n",
       "      <td>1.000100e+06</td>\n",
       "      <td>0.014576</td>\n",
       "      <td>0.005195</td>\n",
       "      <td>0.077536</td>\n",
       "      <td>0.006730</td>\n",
       "    </tr>\n",
       "    <tr>\n",
       "      <th>5</th>\n",
       "      <td>10</td>\n",
       "      <td>316227.766017</td>\n",
       "      <td>3.162378e+06</td>\n",
       "      <td>0.011283</td>\n",
       "      <td>0.003364</td>\n",
       "      <td>0.071301</td>\n",
       "      <td>0.007267</td>\n",
       "    </tr>\n",
       "    <tr>\n",
       "      <th>6</th>\n",
       "      <td>10</td>\n",
       "      <td>1000000.000000</td>\n",
       "      <td>1.000010e+07</td>\n",
       "      <td>0.012025</td>\n",
       "      <td>0.000972</td>\n",
       "      <td>0.029186</td>\n",
       "      <td>0.000280</td>\n",
       "    </tr>\n",
       "  </tbody>\n",
       "</table>\n",
       "</div>"
      ],
      "text/plain": [
       "   chunks       base_size   actual_size  direct_mean  direct_std  \\\n",
       "0      10     1000.000000  1.010000e+04     0.006412    0.001974   \n",
       "1      10     3162.277660  3.172278e+04     0.009905    0.003915   \n",
       "2      10    10000.000000  1.001000e+05     0.012499    0.003549   \n",
       "3      10    31622.776602  3.163278e+05     0.017004    0.002429   \n",
       "4      10   100000.000000  1.000100e+06     0.014576    0.005195   \n",
       "5      10   316227.766017  3.162378e+06     0.011283    0.003364   \n",
       "6      10  1000000.000000  1.000010e+07     0.012025    0.000972   \n",
       "\n",
       "   indirect_mean  indirect_std  \n",
       "0       0.024670      0.003697  \n",
       "1       0.026775      0.004613  \n",
       "2       0.040845      0.007361  \n",
       "3       0.076810      0.003497  \n",
       "4       0.077536      0.006730  \n",
       "5       0.071301      0.007267  \n",
       "6       0.029186      0.000280  "
      ]
     },
     "execution_count": 62,
     "metadata": {},
     "output_type": "execute_result"
    }
   ],
   "source": [
    "results_by_size"
   ]
  },
  {
   "cell_type": "code",
   "execution_count": 69,
   "metadata": {},
   "outputs": [
    {
     "data": {
      "image/png": "[encoded data removed]",
      "text/plain": [
       "<Figure size 432x288 with 2 Axes>"
      ]
     },
     "metadata": {
      "needs_background": "light"
     },
     "output_type": "display_data"
    }
   ],
   "source": [
    "fig = plot_results(results_by_size,xvar='actual_size',log_x=True)"
   ]
  },
  {
   "cell_type": "code",
   "execution_count": 64,
   "metadata": {},
   "outputs": [
    {
     "name": "stdout",
     "output_type": "stream",
     "text": [
      "2.84 ms ± 107 µs per loop (mean ± std. dev. of 5 runs, 10 loops each)\n",
      "21.8 ms ± 5.04 ms per loop (mean ± std. dev. of 5 runs, 10 loops each)\n",
      "4.18 ms ± 1.11 ms per loop (mean ± std. dev. of 5 runs, 10 loops each)\n",
      "22.9 ms ± 5.14 ms per loop (mean ± std. dev. of 5 runs, 10 loops each)\n",
      "7.98 ms ± 2.15 ms per loop (mean ± std. dev. of 5 runs, 10 loops each)\n",
      "39.3 ms ± 3.47 ms per loop (mean ± std. dev. of 5 runs, 10 loops each)\n",
      "6.96 ms ± 2.63 ms per loop (mean ± std. dev. of 5 runs, 10 loops each)\n",
      "71.2 ms ± 5.24 ms per loop (mean ± std. dev. of 5 runs, 10 loops each)\n",
      "7.28 ms ± 4.1 ms per loop (mean ± std. dev. of 5 runs, 10 loops each)\n",
      "56.6 ms ± 15.9 ms per loop (mean ± std. dev. of 5 runs, 10 loops each)\n",
      "10.1 ms ± 3.85 ms per loop (mean ± std. dev. of 5 runs, 10 loops each)\n",
      "59.2 ms ± 19.5 ms per loop (mean ± std. dev. of 5 runs, 10 loops each)\n",
      "19.6 ms ± 1.44 ms per loop (mean ± std. dev. of 5 runs, 10 loops each)\n",
      "37.9 ms ± 573 µs per loop (mean ± std. dev. of 5 runs, 10 loops each)\n"
     ]
    }
   ],
   "source": [
    "test_sizes = np.logspace(3,6,9-3+1)\n",
    "n_chunks = 10\n",
    "results_by_size_nomn = pd.DataFrame()\n",
    "for base_chunk_size in test_sizes:    \n",
    "    time_result_ar = %timeit -n10 -r5 -o array_construct_compute(base_chunk_size,n_chunks)\n",
    "    time_result_df = %timeit -n10 -r5 -o df_construct_compute(base_chunk_size,n_chunks)\n",
    "    new_row = {\n",
    "               'chunks':n_chunks,'base_size':base_chunk_size,\"actual_size\":n_chunks * (base_chunk_size + 10),\n",
    "               'direct_mean':time_result_ar.average,'direct_std':time_result_ar.stdev,\n",
    "               'indirect_mean':time_result_df.average,'indirect_std':time_result_df.stdev,\n",
    "              }\n",
    "    results_by_size_nomn = results_by_size.append([new_row],ignore_index=True)"
   ]
  },
  {
   "cell_type": "code",
   "execution_count": 70,
   "metadata": {},
   "outputs": [
    {
     "data": {
      "image/png": "[encoded data removed]",
      "text/plain": [
       "<Figure size 432x288 with 2 Axes>"
      ]
     },
     "metadata": {
      "needs_background": "light"
     },
     "output_type": "display_data"
    }
   ],
   "source": [
    "fig = plot_results(results_by_size_nomn,xvar='actual_size',log_x=True)"
   ]
  },
  {
   "cell_type": "markdown",
   "metadata": {},
   "source": [
    "the question is: \n",
    "\n",
    "pre-compute time for counting particles + direct array <= indirect array from dataframe ?"
   ]
  },
  {
   "cell_type": "code",
   "execution_count": null,
   "metadata": {},
   "outputs": [],
   "source": []
  }
 ],
 "metadata": {
  "kernelspec": {
   "display_name": "Python 3",
   "language": "python",
   "name": "python3"
  },
  "language_info": {
   "codemirror_mode": {
    "name": "ipython",
    "version": 3
   },
   "file_extension": ".py",
   "mimetype": "text/x-python",
   "name": "python",
   "nbconvert_exporter": "python",
   "pygments_lexer": "ipython3",
   "version": "3.7.8"
  }
 },
 "nbformat": 4,
 "nbformat_minor": 4
}
